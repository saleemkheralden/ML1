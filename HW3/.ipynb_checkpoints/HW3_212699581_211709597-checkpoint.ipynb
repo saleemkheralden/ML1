{
 "cells": [
  {
   "cell_type": "code",
   "execution_count": 1,
   "id": "ece7e32b",
   "metadata": {},
   "outputs": [],
   "source": [
    "import matplotlib.pyplot as plt\n",
    "import numpy as np\n",
    "import numpy.linalg as lg\n",
    "import numpy.random as rnd\n",
    "import matplotlib.pyplot as plt\n",
    "from sklearn.datasets import load_iris\n",
    "from sklearn.model_selection import train_test_split"
   ]
  },
  {
   "cell_type": "markdown",
   "id": "89a76fb5",
   "metadata": {},
   "source": [
    "Question 1:"
   ]
  },
  {
   "cell_type": "markdown",
   "id": "60779257",
   "metadata": {},
   "source": [
    "A."
   ]
  },
  {
   "cell_type": "code",
   "execution_count": 2,
   "id": "36b9d8cf",
   "metadata": {},
   "outputs": [],
   "source": [
    "f = lambda x: 3 + 2 * x + x**2\n",
    "\n",
    "lim = (-10, 10)\n"
   ]
  },
  {
   "cell_type": "code",
   "execution_count": 3,
   "id": "158a05b6",
   "metadata": {},
   "outputs": [],
   "source": [
    "X = np.linspace(lim[0], lim[1], 1000)\n",
    "Y = f(X)"
   ]
  },
  {
   "cell_type": "code",
   "execution_count": 4,
   "id": "5f76f9d6",
   "metadata": {},
   "outputs": [
    {
     "data": {
      "image/png": "[encoded data removed]",
      "text/plain": [
       "<Figure size 432x288 with 1 Axes>"
      ]
     },
     "metadata": {
      "needs_background": "light"
     },
     "output_type": "display_data"
    }
   ],
   "source": [
    "plt.plot(X, Y, label='3 + 2x + x^2', color='red')\n",
    "plt.xlabel('X')\n",
    "plt.ylabel('f(X)')\n",
    "plt.legend()\n",
    "plt.show()"
   ]
  },
  {
   "cell_type": "markdown",
   "id": "b6475401",
   "metadata": {},
   "source": [
    "B."
   ]
  },
  {
   "cell_type": "code",
   "execution_count": 5,
   "id": "cf15f59c",
   "metadata": {},
   "outputs": [],
   "source": [
    "grad_f = lambda x: 2 + 2 * x"
   ]
  },
  {
   "cell_type": "markdown",
   "id": "5d22a3c1",
   "metadata": {},
   "source": [
    "C."
   ]
  },
  {
   "cell_type": "markdown",
   "id": "906603da",
   "metadata": {},
   "source": [
    "$ \\nabla f=2+2x \\\\ $\n",
    "$ \\nabla f=0 \\Rightarrow 2+2x=0 \\Rightarrow x=-1 $\n"
   ]
  },
  {
   "cell_type": "markdown",
   "id": "b25e962f",
   "metadata": {},
   "source": [
    "D."
   ]
  },
  {
   "cell_type": "code",
   "execution_count": 6,
   "id": "016d6847",
   "metadata": {},
   "outputs": [],
   "source": [
    "def grad_update(grad, x, n=0.01, ep = 10**-10):\n",
    "    xt_1 = x\n",
    "    xt = xt_1 - n * grad(x)\n",
    "    \n",
    "    X = [xt_1, xt]\n",
    "    \n",
    "    while abs(xt - xt_1) >= ep:\n",
    "        xt_1 = xt\n",
    "        xt -= n * grad(xt_1)\n",
    "        X.append(xt)\n",
    "    return xt, np.array(X)"
   ]
  },
  {
   "cell_type": "markdown",
   "id": "f01fda9d",
   "metadata": {},
   "source": [
    "E."
   ]
  },
  {
   "cell_type": "code",
   "execution_count": 7,
   "id": "11575349",
   "metadata": {},
   "outputs": [
    {
     "name": "stdout",
     "output_type": "stream",
     "text": [
      "-0.999999995188065\n"
     ]
    }
   ],
   "source": [
    "print(grad_update(grad_f, 0, 0.01)[0])"
   ]
  },
  {
   "cell_type": "markdown",
   "id": "0adc57a4",
   "metadata": {},
   "source": [
    "F."
   ]
  },
  {
   "cell_type": "code",
   "execution_count": 8,
   "id": "f6440ef1",
   "metadata": {},
   "outputs": [
    {
     "name": "stdout",
     "output_type": "stream",
     "text": [
      "949\n",
      "98\n",
      "914\n",
      "95\n",
      "581\n",
      "65\n"
     ]
    }
   ],
   "source": [
    "print(len(grad_update(grad_f, 0, 0.01)[1]))\n",
    "print(len(grad_update(grad_f, 0, 0.1)[1]))\n",
    "print(len(grad_update(grad_f, -0.5, 0.01)[1]))\n",
    "print(len(grad_update(grad_f, -0.5, 0.1)[1]))\n",
    "\n",
    "print(len(grad_update(grad_f, 5, 0.01, 10**-6)[1]))\n",
    "print(len(grad_update(grad_f, 5, 0.1, 10**-6)[1]))"
   ]
  },
  {
   "cell_type": "code",
   "execution_count": 9,
   "id": "59bc5827",
   "metadata": {},
   "outputs": [
    {
     "name": "stdout",
     "output_type": "stream",
     "text": [
      "-0.9999962337389587\n"
     ]
    }
   ],
   "source": [
    "print(grad_update(grad_f, 5, 0.1, 10**-6)[0])"
   ]
  },
  {
   "cell_type": "markdown",
   "id": "1f28db5e",
   "metadata": {},
   "source": [
    "G."
   ]
  },
  {
   "cell_type": "code",
   "execution_count": 10,
   "id": "b10a3484",
   "metadata": {},
   "outputs": [
    {
     "data": {
      "image/png": "[encoded data removed]",
      "text/plain": [
       "<Figure size 432x288 with 1 Axes>"
      ]
     },
     "metadata": {
      "needs_background": "light"
     },
     "output_type": "display_data"
    }
   ],
   "source": [
    "XT = grad_update(grad_f, 5, 0.1, 10**-6)[1]\n",
    "fXT = f(XT)\n",
    "\n",
    "plt.scatter(XT, fXT, color='red', label='gradient update values')\n",
    "plt.plot(X, Y, color='blue', label='f(x)')\n",
    "plt.xlabel('X')\n",
    "plt.ylabel('f(X)')\n",
    "plt.legend()\n",
    "plt.show()"
   ]
  },
  {
   "cell_type": "markdown",
   "id": "62afb18a",
   "metadata": {},
   "source": [
    "---\n",
    "Question 2:"
   ]
  },
  {
   "cell_type": "markdown",
   "id": "22cec47c",
   "metadata": {},
   "source": [
    "A:"
   ]
  },
  {
   "cell_type": "markdown",
   "id": "f2941baa",
   "metadata": {},
   "source": [
    "As we've seen in lectures $\\lambda \\|w\\|^2$ is $2\\lambda$-strongly convex \\\n",
    "And we've seen that $max\\{0, 1-y_i(<w, x_i> + b)\\}$ is convex, and from a theorem from algebra if f and g is convex them f+g is convex as well\n",
    "and so $\\frac{1}{m}\\sum\\limits_{i=1}^{m}max\\{0, 1-y_i(<w, x_i> + b)\\} + \\lambda \\|w\\|^2$ is convex \n"
   ]
  },
  {
   "cell_type": "markdown",
   "id": "7bbbfe46",
   "metadata": {},
   "source": [
    "B:"
   ]
  },
  {
   "cell_type": "markdown",
   "id": "1a0ef6aa",
   "metadata": {},
   "source": [
    "we need to proof that $|l(w_1, x_i, y_i) - l(w_2, x_i, y_i)| < R\\|w_1-w_2\\|$\n",
    "\n",
    "*\n",
    "$|l(w_1, x_i, y_i) - l(w_2, x_i, y_i)| = \\\\ |max\\{0, 1-y_i<w_1, x_i>\\} - max\\{0, 1-y_i<w_2, x_i>\\}| = \\\\\n",
    "\\;\\;\\;\\; i. \\; 1-y_i<w_1, x_i> - \\; 0 \\le 1-y_i<w_1, x_i> - \\; (1-y_i<w_2, x_i>) = max\\{0, 1-y_i<w_1, x_i> - \\; (1-y_i<w_1, x_i>)\\} \\\\\n",
    "\\;\\;\\;\\; ii. \\; 1-y_i<w_1, x_i> - \\; (1-y_i<w_1, x_i>) = max\\{0, 1-y_i<w_1, x_i> - \\; (1-y_i<w_1, x_i>)\\} \\\\\n",
    "\\;\\;\\;\\; iii. \\; 0 - (1-y_i<w_2, x_i>) \\le 0 = max\\{0, 1-y_i<w_1, x_i> - \\; (1-y_i<w_1, x_i>)\\} \\\\\n",
    "\\;\\;\\;\\; iv. \\; 0 - 0 \\le max\\{0, 1-y_i<w_1, x_i> - \\; (1-y_i<w_1, x_i>)\\}$"
   ]
  },
  {
   "cell_type": "markdown",
   "id": "027c67f4",
   "metadata": {},
   "source": [
    "**\n",
    "$i. \\underset{k}{max}\\|x_k\\|\\|w_2-w_1\\| \\ge \\|x_i\\|\\|w_2-w_1\\| \\underset{\\text{cauchy schwarz inequality}}{\\ge} \\\\\n",
    "<x_i, w_2-w_1> \\; = \\; <x_i, w_2> - <x_i, w_1> \\; = \\\\ \n",
    "-1 \\: + <x_i, w_2> + \\: 1 - <x_i, w_1> \\; = \\\\\n",
    "\\;\\;\\;\\; a. 1 - y_i<x_i, w_1> - \\: (1 - y_i<x_i, w_2>) \\text{, for } y_i=1 \\\\\n",
    "\\;\\;\\;\\; b. \\text{ for } y_i=-1 \\text{ start with } \\|w_1 - w_2\\| \\text{ and we'll get the same inequality}\\\\\n",
    "ii. \\|x_i\\|\\|w_2-w_1\\| \\ge 0 \\\\\n",
    "\\Rightarrow \\underset{k}{max}\\|x_k\\|\\|w_2-w_1\\| \\ge max\\{0, 1-y_i<w_1, x_i> - \\; (1-y_i<w_2, x_i>)\\}$"
   ]
  },
  {
   "cell_type": "markdown",
   "id": "3adc96ef",
   "metadata": {},
   "source": [
    "combine * and ** and we get $|l(w_1, x_i, y_i) - l(w_2, x_i, y_i)| < R\\|w_1-w_2\\|$"
   ]
  },
  {
   "cell_type": "markdown",
   "id": "ff36e308",
   "metadata": {},
   "source": [
    "C:"
   ]
  },
  {
   "cell_type": "markdown",
   "id": "fabb3dba",
   "metadata": {},
   "source": [
    "Denote $\\mathcal{L}(w, b) = max\\{0, 1-y_i(<w, x_i> + b)\\} + \\lambda \\|w\\|^2$\n"
   ]
  },
  {
   "cell_type": "markdown",
   "id": "8d342f6c",
   "metadata": {},
   "source": [
    "$$\\frac{\\partial \\mathcal{L}}{\\partial w} = \n",
    "\\begin{cases}\n",
    "    2\\lambda w, \\;\\;\\;\\;\\;\\;\\;\\;\\;\\;\\;\\;\\; \\text{ if } 1-y_i(<w, x_i> + b) \\le 0 \\\\\n",
    "    -y_ix_i + 2\\lambda w, \\;\\; o.w.\n",
    "\\end{cases}$$\n",
    "\n",
    "$$\n",
    "\\frac{\\partial \\mathcal{L}}{\\partial b} = \n",
    "\\begin{cases}\n",
    "    0, \\;\\;\\;\\; \\text{ if } 1-y_i(<w, x_i> + b) \\le 0 \\\\\n",
    "    -y_i, \\;\\; o.w.\n",
    "\\end{cases}\n",
    "$$\n"
   ]
  },
  {
   "cell_type": "markdown",
   "id": "5879fbbe",
   "metadata": {},
   "source": [
    "D:"
   ]
  },
  {
   "cell_type": "code",
   "execution_count": 315,
   "id": "b86781ee",
   "metadata": {},
   "outputs": [],
   "source": [
    "def sub_grad(w, b, x, y, lam, d, m):\n",
    "    return 2*lam*w if (1 - y * (w@x + b)) <= 0 else -y*x+2*lam*w, 0 if (1 - y * (w@x + b)) <= 0 else -y\n",
    "    \n",
    "\n",
    "def pract_sgd(X, y, lam, epochs, l_rate):\n",
    "    m = len(X)\n",
    "    d = len(X[0])\n",
    "    \n",
    "    w = rnd.uniform(0, 1, d)\n",
    "    b = rnd.uniform(0, 1)\n",
    "    \n",
    "    perm = np.arange(m)\n",
    "\n",
    "    for i in range(epochs):\n",
    "#         print(f'epoch {i}. {float(i)/epochs:.2f}%')\n",
    "        rnd.shuffle(perm)\n",
    "        for i in perm:\n",
    "            subGrad = sub_grad(w, b, X[i], y[i], lam, d, m)    \n",
    "            w -= l_rate * subGrad[0]\n",
    "            b -= l_rate * subGrad[1]\n",
    "        \n",
    "    return w, b\n",
    "    \n",
    "    \n",
    "    \n",
    "def theory_sgd(X, y, lam, epochs, l_rate):\n",
    "    m = len(X)\n",
    "    d = len(X[0])\n",
    "    \n",
    "    w = rnd.uniform(0, 1, d)\n",
    "    b = rnd.uniform(0, 1)\n",
    "    \n",
    "    W = w\n",
    "    B = b\n",
    "    \n",
    "    for i in range(m*epochs):\n",
    "#         print(f'epoch {i}. {float(i)/(m*epochs):.2f}%')\n",
    "        index = rnd.randint(0, m)\n",
    "        subGrad = sub_grad(w, b, X[index], y[index], lam, d, m)\n",
    "        w -= l_rate * subGrad[0]\n",
    "        b -= l_rate * subGrad[1]\n",
    "        W = w\n",
    "        B = b\n",
    "        \n",
    "    return W / (m * epochs), B / (m * epochs)\n",
    "        \n",
    "    \n",
    "    \n",
    "    \n",
    "def svm_with_sgd(X, y, lam=0, epochs=1000, l_rate=0.01, sgd_type=\"practical\"):\n",
    "    rnd.seed(2)\n",
    "    if sgd_type == \"practical\":\n",
    "        return pract_sgd(X, y, lam, epochs, l_rate)\n",
    "    return theory_sgd(X, y, lam, epochs, l_rate)\n",
    "        \n",
    "        \n",
    "        \n",
    "        \n",
    "        \n",
    "    \n",
    "    "
   ]
  },
  {
   "cell_type": "markdown",
   "id": "b868bbab",
   "metadata": {},
   "source": [
    "E:"
   ]
  },
  {
   "cell_type": "code",
   "execution_count": 66,
   "id": "28e3aa6b",
   "metadata": {},
   "outputs": [],
   "source": [
    "sign = lambda x: 1 if x >= 0 else -1\n",
    "\n",
    "def calculate_error(w, b, X, y):\n",
    "    c = 0\n",
    "    for x_i, y_i in zip(X, y):\n",
    "        if sign(w@x_i + b) != y_i:\n",
    "            c += 1\n",
    "    return c / len(y)\n",
    "    "
   ]
  },
  {
   "cell_type": "markdown",
   "id": "fb1e01c3",
   "metadata": {},
   "source": [
    "F:"
   ]
  },
  {
   "cell_type": "code",
   "execution_count": 316,
   "id": "3a541232",
   "metadata": {},
   "outputs": [
    {
     "data": {
      "image/png": "[encoded data removed]",
      "text/plain": [
       "<Figure size 432x288 with 1 Axes>"
      ]
     },
     "metadata": {
      "needs_background": "light"
     },
     "output_type": "display_data"
    }
   ],
   "source": [
    "\n",
    "X, y = load_iris(return_X_y=True)\n",
    "X = X[y != 0]\n",
    "y = y[y != 0]\n",
    "y[y == 2] = -1\n",
    "X = X[:, 2:4]\n",
    "\n",
    "X_train, X_val, y_train, y_val = train_test_split(X, y, test_size=0.3, random_state=0)\n",
    "\n",
    "Lam = [0, 0.05, 0.1, 0.2, 0.5]\n",
    "\n",
    "train_err = list()\n",
    "val_err = list()\n",
    "margin = list()\n",
    "\n",
    "WB = []\n",
    "\n",
    "for l in Lam:\n",
    "    w, b = svm_with_sgd(X_train, y_train, l, sgd_type=\"22\")\n",
    "    WB.append((w, b))\n",
    "    \n",
    "    y_col = y_train.copy()\n",
    "    y_col[y_col == -1] = 0\n",
    "\n",
    "    colors = np.array([\"red\", \"green\"])\n",
    "\n",
    "    x = np.linspace(3.5, 7, 100)\n",
    "    y = -(w[0]/w[1]) * x - b/w[1]\n",
    "\n",
    "    plt.scatter(X_train[:, 0], X_train[:, 1], c=colors[y_col])\n",
    "    plt.plot(x, y)\n",
    "    \n",
    "    train_err.append(calculate_error(w, b, X_train, y_train))\n",
    "    val_err.append(calculate_error(w, b, X_val, y_val))\n",
    "    margin.append(1/lg.norm(w))\n",
    "\n"
   ]
  },
  {
   "cell_type": "code",
   "execution_count": 317,
   "id": "3f511303",
   "metadata": {},
   "outputs": [
    {
     "name": "stdout",
     "output_type": "stream",
     "text": [
      "(array([-1.12965914, -2.83886445]), 10.115771758771434)\n",
      "(array([-1.16323165, -0.88538402]), 7.148120615915095)\n",
      "(array([-0.97687333, -0.66154278]), 5.893206473056816)\n",
      "(array([-0.77484501, -0.47383706]), 4.621550901628492)\n",
      "(array([-0.47939718, -0.26602395]), 2.8712314730568234)\n"
     ]
    }
   ],
   "source": [
    "print(*WB, sep='\\n')\n",
    "\n",
    "\n",
    "\n",
    "# (array([-1.9440051 , -2.94707377]), 13.80966247787846)\n",
    "# (array([-1.33885418, -0.93567764]), 7.9196624778785845)\n",
    "# (array([-1.05289511, -0.68762235]), 6.319662477878619)\n",
    "# (array([-0.86845215, -0.50165501]), 4.85966247787865)\n",
    "# (array([-0.53655205, -0.28680641]), 3.0296624778786887)"
   ]
  },
  {
   "cell_type": "code",
   "execution_count": 318,
   "id": "bc6207a0",
   "metadata": {},
   "outputs": [
    {
     "data": {
      "text/plain": [
       "[<matplotlib.lines.Line2D at 0x2418a8fd540>]"
      ]
     },
     "execution_count": 318,
     "metadata": {},
     "output_type": "execute_result"
    },
    {
     "data": {
      "image/png": "[encoded data removed]",
      "text/plain": [
       "<Figure size 432x288 with 1 Axes>"
      ]
     },
     "metadata": {
      "needs_background": "light"
     },
     "output_type": "display_data"
    }
   ],
   "source": [
    "y_col = y_train.copy()\n",
    "y_col[y_col == -1] = 0\n",
    "\n",
    "colors = np.array([\"red\", \"green\"])\n",
    "\n",
    "x = np.linspace(3.5, 7, 100)\n",
    "y = -(w[0]/w[1]) * x - b/w[1]\n",
    "\n",
    "plt.scatter(X_train[:, 0], X_train[:, 1], c=colors[y_col])\n",
    "plt.plot(x, y)\n"
   ]
  },
  {
   "cell_type": "code",
   "execution_count": 319,
   "id": "b8e7b165",
   "metadata": {},
   "outputs": [
    {
     "data": {
      "image/png": "[encoded data removed]",
      "text/plain": [
       "<Figure size 576x576 with 2 Axes>"
      ]
     },
     "metadata": {
      "needs_background": "light"
     },
     "output_type": "display_data"
    }
   ],
   "source": [
    "fig, ax = plt.subplots(2, 1)\n",
    "\n",
    "fig.set_size_inches(8, 8)\n",
    "\n",
    "x = np.arange(len(Lam))\n",
    "\n",
    "ax[0].bar(x-0.4/2, train_err, 0.4, color=\"blue\", label=\"Training error\")\n",
    "ax[0].bar(x+0.4/2, val_err, 0.4, color=\"pink\", label=\"Validation error\")\n",
    "ax[0].set_xticks(x)\n",
    "ax[0].set_xticklabels(Lam)\n",
    "ax[0].set_xlabel(\"Lambda\")\n",
    "ax[0].set_ylabel(\"Error\")\n",
    "ax[0].legend()\n",
    "\n",
    "ax[1].bar(x, margin, 0.4, color=\"blue\", label=\"Margin\")\n",
    "ax[1].set_xticks(x)\n",
    "ax[1].set_xticklabels(Lam)\n",
    "ax[1].set_xlabel(\"Lambda\")\n",
    "ax[1].set_ylabel(\"Margin\")\n",
    "ax[1].legend()\n",
    "\n",
    "plt.show()\n"
   ]
  },
  {
   "cell_type": "markdown",
   "id": "95c3e92e",
   "metadata": {},
   "source": [
    "We see that with $\\lambda = 0.1$ we get the best validation error"
   ]
  },
  {
   "cell_type": "markdown",
   "id": "6fa0e7c7",
   "metadata": {},
   "source": [
    "G:"
   ]
  },
  {
   "cell_type": "code",
   "execution_count": 20,
   "id": "4fbec1ea",
   "metadata": {},
   "outputs": [],
   "source": [
    "Epochs = np.arange(10, 1001, 10)\n",
    "practical_train_error = list()\n",
    "theoretical_train_error = list()\n",
    "\n",
    "practical_validation_error = list()\n",
    "theoretical_validation_error = list()\n",
    "\n",
    "for epoch in Epochs:\n",
    "    if epoch % 200 == 0:\n",
    "        print(f'epoch {epoch}')\n",
    "    w1, b1 = svm_with_sgd(X_train, y_train, lam=0.1, epochs=epoch, sgd_type=\"practical\")\n",
    "    w2, b2 = svm_with_sgd(X_train, y_train, lam=0.1, epochs=epoch, sgd_type=\"theory\")\n",
    "    practical_train_error.append(calculate_error(w1, b1, X_train, y_train))\n",
    "    theoretical_train_error.append(calculate_error(w2, b2, X_train, y_train))\n",
    "    \n",
    "    practical_validation_error.append(calculate_error(w1, b1, X_val, y_val))\n",
    "    theoretical_validation_error.append(calculate_error(w2, b2, X_val, y_val))\n",
    "    \n"
   ]
  },
  {
   "cell_type": "code",
   "execution_count": 18,
   "id": "77e2bd9d",
   "metadata": {},
   "outputs": [
    {
     "data": {
      "text/plain": [
       "[]"
      ]
     },
     "execution_count": 18,
     "metadata": {},
     "output_type": "execute_result"
    },
    {
     "data": {
      "image/png": "[encoded data removed]",
      "text/plain": [
       "<Figure size 432x288 with 1 Axes>"
      ]
     },
     "metadata": {
      "needs_background": "light"
     },
     "output_type": "display_data"
    }
   ],
   "source": [
    "plt.plot(Epochs, practical_train_error, color=\"red\", label=\"Practical error\")\n",
    "plt.plot(Epochs, theoretical_train_error, color=\"blue\", label=\"theoretical error\")\n",
    "plt.xlabel(\"Epochs\")\n",
    "plt.ylabel(\"Error\")\n",
    "plt.legend()\n",
    "plt.plot()"
   ]
  },
  {
   "cell_type": "code",
   "execution_count": 19,
   "id": "59f45cbf",
   "metadata": {},
   "outputs": [
    {
     "data": {
      "text/plain": [
       "[]"
      ]
     },
     "execution_count": 19,
     "metadata": {},
     "output_type": "execute_result"
    },
    {
     "data": {
      "image/png": "[encoded data removed]",
      "text/plain": [
       "<Figure size 432x288 with 1 Axes>"
      ]
     },
     "metadata": {
      "needs_background": "light"
     },
     "output_type": "display_data"
    }
   ],
   "source": [
    "plt.plot(Epochs, practical_validation_error, color=\"red\", label=\"Practical error\")\n",
    "plt.plot(Epochs, theoretical_validation_error, color=\"blue\", label=\"theoretical error\")\n",
    "plt.xlabel(\"Epochs\")\n",
    "plt.ylabel(\"Error\")\n",
    "plt.legend()\n",
    "plt.plot()"
   ]
  },
  {
   "cell_type": "code",
   "execution_count": 298,
   "id": "82783545",
   "metadata": {},
   "outputs": [
    {
     "ename": "KeyboardInterrupt",
     "evalue": "",
     "output_type": "error",
     "traceback": [
      "\u001b[1;31m---------------------------------------------------------------------------\u001b[0m",
      "\u001b[1;31mKeyboardInterrupt\u001b[0m                         Traceback (most recent call last)",
      "Input \u001b[1;32mIn [298]\u001b[0m, in \u001b[0;36m<cell line: 4>\u001b[1;34m()\u001b[0m\n\u001b[0;32m      9\u001b[0m \u001b[38;5;28;01mfor\u001b[39;00m i \u001b[38;5;129;01min\u001b[39;00m \u001b[38;5;28mrange\u001b[39m(m\u001b[38;5;241m*\u001b[39mepochs):\n\u001b[0;32m     10\u001b[0m     index \u001b[38;5;241m=\u001b[39m rnd\u001b[38;5;241m.\u001b[39mrandint(\u001b[38;5;241m0\u001b[39m, m)\n\u001b[1;32m---> 11\u001b[0m     subGrad \u001b[38;5;241m=\u001b[39m \u001b[43msub_grad\u001b[49m\u001b[43m(\u001b[49m\u001b[43mw\u001b[49m\u001b[43m,\u001b[49m\u001b[43m \u001b[49m\u001b[43mb\u001b[49m\u001b[43m,\u001b[49m\u001b[43m \u001b[49m\u001b[43mX\u001b[49m\u001b[43m[\u001b[49m\u001b[43mindex\u001b[49m\u001b[43m]\u001b[49m\u001b[43m,\u001b[49m\u001b[43m \u001b[49m\u001b[43my\u001b[49m\u001b[43m[\u001b[49m\u001b[43mindex\u001b[49m\u001b[43m]\u001b[49m\u001b[43m,\u001b[49m\u001b[43m \u001b[49m\u001b[38;5;241;43m0.1\u001b[39;49m\u001b[43m,\u001b[49m\u001b[43m \u001b[49m\u001b[43md\u001b[49m\u001b[43m,\u001b[49m\u001b[43m \u001b[49m\u001b[43mm\u001b[49m\u001b[43m)\u001b[49m\n\u001b[0;32m     12\u001b[0m     ww \u001b[38;5;241m=\u001b[39m w \u001b[38;5;241m-\u001b[39m l_rate \u001b[38;5;241m*\u001b[39m subGrad[\u001b[38;5;241m0\u001b[39m]\n\u001b[0;32m     13\u001b[0m     bb \u001b[38;5;241m=\u001b[39m b \u001b[38;5;241m-\u001b[39m l_rate \u001b[38;5;241m*\u001b[39m subGrad[\u001b[38;5;241m1\u001b[39m]\n",
      "Input \u001b[1;32mIn [145]\u001b[0m, in \u001b[0;36msub_grad\u001b[1;34m(w, b, x, y, lam, d, m)\u001b[0m\n\u001b[1;32m----> 1\u001b[0m \u001b[38;5;28;01mdef\u001b[39;00m \u001b[38;5;21msub_grad\u001b[39m(w, b, x, y, lam, d, m):\n\u001b[0;32m      2\u001b[0m     \u001b[38;5;28;01mreturn\u001b[39;00m \u001b[38;5;241m2\u001b[39m\u001b[38;5;241m*\u001b[39mlam\u001b[38;5;241m*\u001b[39mw \u001b[38;5;28;01mif\u001b[39;00m (\u001b[38;5;241m1\u001b[39m \u001b[38;5;241m-\u001b[39m y \u001b[38;5;241m*\u001b[39m (w\u001b[38;5;129m@x\u001b[39m \u001b[38;5;241m+\u001b[39m b)) \u001b[38;5;241m<\u001b[39m\u001b[38;5;241m=\u001b[39m \u001b[38;5;241m0\u001b[39m \u001b[38;5;28;01melse\u001b[39;00m \u001b[38;5;241m-\u001b[39my\u001b[38;5;241m*\u001b[39mx\u001b[38;5;241m+\u001b[39m\u001b[38;5;241m2\u001b[39m\u001b[38;5;241m*\u001b[39mlam\u001b[38;5;241m*\u001b[39mw, \u001b[38;5;241m0\u001b[39m \u001b[38;5;28;01mif\u001b[39;00m (\u001b[38;5;241m1\u001b[39m \u001b[38;5;241m-\u001b[39m y \u001b[38;5;241m*\u001b[39m (w\u001b[38;5;129m@x\u001b[39m \u001b[38;5;241m+\u001b[39m b)) \u001b[38;5;241m<\u001b[39m\u001b[38;5;241m=\u001b[39m \u001b[38;5;241m0\u001b[39m \u001b[38;5;28;01melse\u001b[39;00m \u001b[38;5;241m-\u001b[39my\n\u001b[0;32m      5\u001b[0m \u001b[38;5;28;01mdef\u001b[39;00m \u001b[38;5;21mpract_sgd\u001b[39m(X, y, lam, epochs, l_rate):\n",
      "\u001b[1;31mKeyboardInterrupt\u001b[0m: "
     ]
    }
   ],
   "source": [
    "m = len(X)\n",
    "d = len(X[0])\n",
    "\n",
    "while True:\n",
    "    \n",
    "    w = rnd.uniform(0, 1, d)\n",
    "    b = rnd.uniform(0, 1)\n",
    "    \n",
    "    for i in range(m*epochs):\n",
    "        index = rnd.randint(0, m)\n",
    "        subGrad = sub_grad(w, b, X[index], y[index], 0.1, d, m)\n",
    "        ww = w - l_rate * subGrad[0]\n",
    "        bb = b - l_rate * subGrad[1]\n",
    "        \n",
    "        w -= l_rate * subGrad[0]\n",
    "        b -= l_rate * subGrad[1]\n",
    "    \n",
    "    if (ww != w).any() or bb != b:\n",
    "        break\n",
    "    \n",
    "print(ww, bb)\n",
    "print(w, b)\n",
    "\n",
    "print(subGrad)\n",
    "\n",
    "# W = W + w\n",
    "# B = B + b\n",
    "\n"
   ]
  },
  {
   "cell_type": "code",
   "execution_count": 295,
   "id": "06741120",
   "metadata": {},
   "outputs": [],
   "source": [
    "l_rate\n",
    "epochs = 1000"
   ]
  }
 ],
 "metadata": {
  "kernelspec": {
   "display_name": "Python 3 (ipykernel)",
   "language": "python",
   "name": "python3"
  },
  "language_info": {
   "codemirror_mode": {
    "name": "ipython",
    "version": 3
   },
   "file_extension": ".py",
   "mimetype": "text/x-python",
   "name": "python",
   "nbconvert_exporter": "python",
   "pygments_lexer": "ipython3",
   "version": "3.10.0"
  }
 },
 "nbformat": 4,
 "nbformat_minor": 5
}
